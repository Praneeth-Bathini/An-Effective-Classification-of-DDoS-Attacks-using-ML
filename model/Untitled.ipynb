{
 "cells": [
  {
   "cell_type": "code",
   "execution_count": 1,
   "id": "f440b833-89fe-44f6-ab80-3fbdf0ba522c",
   "metadata": {},
   "outputs": [],
   "source": [
    "import numpy as np\n",
    "import pandas as pd"
   ]
  },
  {
   "cell_type": "code",
   "execution_count": 2,
   "id": "ba1a290b-0a77-4f56-a3ff-180ce6a1b1c1",
   "metadata": {},
   "outputs": [],
   "source": [
    "df=pd.read_csv(\"DDoS_dataset.csv\")"
   ]
  },
  {
   "cell_type": "code",
   "execution_count": 3,
   "id": "bfeeb484-abb8-489c-a900-7e22311eba97",
   "metadata": {},
   "outputs": [
    {
     "data": {
      "text/html": [
       "<div>\n",
       "<style scoped>\n",
       "    .dataframe tbody tr th:only-of-type {\n",
       "        vertical-align: middle;\n",
       "    }\n",
       "\n",
       "    .dataframe tbody tr th {\n",
       "        vertical-align: top;\n",
       "    }\n",
       "\n",
       "    .dataframe thead th {\n",
       "        text-align: right;\n",
       "    }\n",
       "</style>\n",
       "<table border=\"1\" class=\"dataframe\">\n",
       "  <thead>\n",
       "    <tr style=\"text-align: right;\">\n",
       "      <th></th>\n",
       "      <th>Highest Layer</th>\n",
       "      <th>Transport Layer</th>\n",
       "      <th>Source IP</th>\n",
       "      <th>Dest IP</th>\n",
       "      <th>Source Port</th>\n",
       "      <th>Dest Port</th>\n",
       "      <th>Packet Length</th>\n",
       "      <th>Packets/Time</th>\n",
       "      <th>target</th>\n",
       "    </tr>\n",
       "  </thead>\n",
       "  <tbody>\n",
       "    <tr>\n",
       "      <th>0</th>\n",
       "      <td>ARP</td>\n",
       "      <td>UDP</td>\n",
       "      <td>1</td>\n",
       "      <td>192.168.1.1</td>\n",
       "      <td>0</td>\n",
       "      <td>0</td>\n",
       "      <td>60</td>\n",
       "      <td>92.8</td>\n",
       "      <td>1</td>\n",
       "    </tr>\n",
       "    <tr>\n",
       "      <th>1</th>\n",
       "      <td>ARP</td>\n",
       "      <td>UDP</td>\n",
       "      <td>0</td>\n",
       "      <td>192.168.1.10</td>\n",
       "      <td>0</td>\n",
       "      <td>0</td>\n",
       "      <td>42</td>\n",
       "      <td>92.9</td>\n",
       "      <td>0</td>\n",
       "    </tr>\n",
       "    <tr>\n",
       "      <th>2</th>\n",
       "      <td>ARP</td>\n",
       "      <td>UDP</td>\n",
       "      <td>1</td>\n",
       "      <td>192.168.1.1</td>\n",
       "      <td>0</td>\n",
       "      <td>0</td>\n",
       "      <td>60</td>\n",
       "      <td>362.8</td>\n",
       "      <td>1</td>\n",
       "    </tr>\n",
       "    <tr>\n",
       "      <th>3</th>\n",
       "      <td>ARP</td>\n",
       "      <td>UDP</td>\n",
       "      <td>0</td>\n",
       "      <td>192.168.1.12</td>\n",
       "      <td>0</td>\n",
       "      <td>0</td>\n",
       "      <td>42</td>\n",
       "      <td>362.8</td>\n",
       "      <td>0</td>\n",
       "    </tr>\n",
       "    <tr>\n",
       "      <th>4</th>\n",
       "      <td>ARP</td>\n",
       "      <td>UDP</td>\n",
       "      <td>1</td>\n",
       "      <td>192.168.1.1</td>\n",
       "      <td>0</td>\n",
       "      <td>0</td>\n",
       "      <td>60</td>\n",
       "      <td>364.3</td>\n",
       "      <td>1</td>\n",
       "    </tr>\n",
       "    <tr>\n",
       "      <th>...</th>\n",
       "      <td>...</td>\n",
       "      <td>...</td>\n",
       "      <td>...</td>\n",
       "      <td>...</td>\n",
       "      <td>...</td>\n",
       "      <td>...</td>\n",
       "      <td>...</td>\n",
       "      <td>...</td>\n",
       "      <td>...</td>\n",
       "    </tr>\n",
       "    <tr>\n",
       "      <th>852580</th>\n",
       "      <td>DATA</td>\n",
       "      <td>UDP</td>\n",
       "      <td>0</td>\n",
       "      <td>192.168.1.1</td>\n",
       "      <td>50890</td>\n",
       "      <td>5201</td>\n",
       "      <td>834</td>\n",
       "      <td>19.3</td>\n",
       "      <td>0</td>\n",
       "    </tr>\n",
       "    <tr>\n",
       "      <th>852581</th>\n",
       "      <td>DATA</td>\n",
       "      <td>UDP</td>\n",
       "      <td>0</td>\n",
       "      <td>192.168.1.1</td>\n",
       "      <td>50890</td>\n",
       "      <td>5201</td>\n",
       "      <td>834</td>\n",
       "      <td>19.8</td>\n",
       "      <td>0</td>\n",
       "    </tr>\n",
       "    <tr>\n",
       "      <th>852582</th>\n",
       "      <td>DATA</td>\n",
       "      <td>UDP</td>\n",
       "      <td>0</td>\n",
       "      <td>192.168.1.1</td>\n",
       "      <td>50890</td>\n",
       "      <td>5201</td>\n",
       "      <td>834</td>\n",
       "      <td>20.3</td>\n",
       "      <td>0</td>\n",
       "    </tr>\n",
       "    <tr>\n",
       "      <th>852583</th>\n",
       "      <td>DATA</td>\n",
       "      <td>UDP</td>\n",
       "      <td>0</td>\n",
       "      <td>192.168.1.1</td>\n",
       "      <td>50890</td>\n",
       "      <td>5201</td>\n",
       "      <td>834</td>\n",
       "      <td>20.8</td>\n",
       "      <td>0</td>\n",
       "    </tr>\n",
       "    <tr>\n",
       "      <th>852584</th>\n",
       "      <td>DATA</td>\n",
       "      <td>UDP</td>\n",
       "      <td>0</td>\n",
       "      <td>192.168.1.1</td>\n",
       "      <td>50890</td>\n",
       "      <td>5201</td>\n",
       "      <td>834</td>\n",
       "      <td>21.4</td>\n",
       "      <td>0</td>\n",
       "    </tr>\n",
       "  </tbody>\n",
       "</table>\n",
       "<p>852585 rows × 9 columns</p>\n",
       "</div>"
      ],
      "text/plain": [
       "       Highest Layer Transport Layer  Source IP       Dest IP  Source Port  \\\n",
       "0                ARP             UDP          1   192.168.1.1            0   \n",
       "1                ARP             UDP          0  192.168.1.10            0   \n",
       "2                ARP             UDP          1   192.168.1.1            0   \n",
       "3                ARP             UDP          0  192.168.1.12            0   \n",
       "4                ARP             UDP          1   192.168.1.1            0   \n",
       "...              ...             ...        ...           ...          ...   \n",
       "852580          DATA             UDP          0   192.168.1.1        50890   \n",
       "852581          DATA             UDP          0   192.168.1.1        50890   \n",
       "852582          DATA             UDP          0   192.168.1.1        50890   \n",
       "852583          DATA             UDP          0   192.168.1.1        50890   \n",
       "852584          DATA             UDP          0   192.168.1.1        50890   \n",
       "\n",
       "        Dest Port  Packet Length  Packets/Time  target  \n",
       "0               0             60          92.8       1  \n",
       "1               0             42          92.9       0  \n",
       "2               0             60         362.8       1  \n",
       "3               0             42         362.8       0  \n",
       "4               0             60         364.3       1  \n",
       "...           ...            ...           ...     ...  \n",
       "852580       5201            834          19.3       0  \n",
       "852581       5201            834          19.8       0  \n",
       "852582       5201            834          20.3       0  \n",
       "852583       5201            834          20.8       0  \n",
       "852584       5201            834          21.4       0  \n",
       "\n",
       "[852585 rows x 9 columns]"
      ]
     },
     "execution_count": 3,
     "metadata": {},
     "output_type": "execute_result"
    }
   ],
   "source": [
    "df"
   ]
  },
  {
   "cell_type": "code",
   "execution_count": 4,
   "id": "96a7aca3-caac-4829-86c7-db44bfbf7dac",
   "metadata": {},
   "outputs": [
    {
     "data": {
      "text/html": [
       "<div>\n",
       "<style scoped>\n",
       "    .dataframe tbody tr th:only-of-type {\n",
       "        vertical-align: middle;\n",
       "    }\n",
       "\n",
       "    .dataframe tbody tr th {\n",
       "        vertical-align: top;\n",
       "    }\n",
       "\n",
       "    .dataframe thead th {\n",
       "        text-align: right;\n",
       "    }\n",
       "</style>\n",
       "<table border=\"1\" class=\"dataframe\">\n",
       "  <thead>\n",
       "    <tr style=\"text-align: right;\">\n",
       "      <th></th>\n",
       "      <th>Highest Layer</th>\n",
       "      <th>Transport Layer</th>\n",
       "      <th>Source IP</th>\n",
       "      <th>Dest IP</th>\n",
       "      <th>Source Port</th>\n",
       "      <th>Dest Port</th>\n",
       "      <th>Packet Length</th>\n",
       "      <th>Packets/Time</th>\n",
       "      <th>target</th>\n",
       "    </tr>\n",
       "  </thead>\n",
       "  <tbody>\n",
       "    <tr>\n",
       "      <th>0</th>\n",
       "      <td>ARP</td>\n",
       "      <td>UDP</td>\n",
       "      <td>1</td>\n",
       "      <td>192.168.1.1</td>\n",
       "      <td>0</td>\n",
       "      <td>0</td>\n",
       "      <td>60</td>\n",
       "      <td>92.8</td>\n",
       "      <td>1</td>\n",
       "    </tr>\n",
       "    <tr>\n",
       "      <th>1</th>\n",
       "      <td>ARP</td>\n",
       "      <td>UDP</td>\n",
       "      <td>0</td>\n",
       "      <td>192.168.1.10</td>\n",
       "      <td>0</td>\n",
       "      <td>0</td>\n",
       "      <td>42</td>\n",
       "      <td>92.9</td>\n",
       "      <td>0</td>\n",
       "    </tr>\n",
       "    <tr>\n",
       "      <th>2</th>\n",
       "      <td>ARP</td>\n",
       "      <td>UDP</td>\n",
       "      <td>1</td>\n",
       "      <td>192.168.1.1</td>\n",
       "      <td>0</td>\n",
       "      <td>0</td>\n",
       "      <td>60</td>\n",
       "      <td>362.8</td>\n",
       "      <td>1</td>\n",
       "    </tr>\n",
       "    <tr>\n",
       "      <th>3</th>\n",
       "      <td>ARP</td>\n",
       "      <td>UDP</td>\n",
       "      <td>0</td>\n",
       "      <td>192.168.1.12</td>\n",
       "      <td>0</td>\n",
       "      <td>0</td>\n",
       "      <td>42</td>\n",
       "      <td>362.8</td>\n",
       "      <td>0</td>\n",
       "    </tr>\n",
       "    <tr>\n",
       "      <th>4</th>\n",
       "      <td>ARP</td>\n",
       "      <td>UDP</td>\n",
       "      <td>1</td>\n",
       "      <td>192.168.1.1</td>\n",
       "      <td>0</td>\n",
       "      <td>0</td>\n",
       "      <td>60</td>\n",
       "      <td>364.3</td>\n",
       "      <td>1</td>\n",
       "    </tr>\n",
       "  </tbody>\n",
       "</table>\n",
       "</div>"
      ],
      "text/plain": [
       "  Highest Layer Transport Layer  Source IP       Dest IP  Source Port  \\\n",
       "0           ARP             UDP          1   192.168.1.1            0   \n",
       "1           ARP             UDP          0  192.168.1.10            0   \n",
       "2           ARP             UDP          1   192.168.1.1            0   \n",
       "3           ARP             UDP          0  192.168.1.12            0   \n",
       "4           ARP             UDP          1   192.168.1.1            0   \n",
       "\n",
       "   Dest Port  Packet Length  Packets/Time  target  \n",
       "0          0             60          92.8       1  \n",
       "1          0             42          92.9       0  \n",
       "2          0             60         362.8       1  \n",
       "3          0             42         362.8       0  \n",
       "4          0             60         364.3       1  "
      ]
     },
     "execution_count": 4,
     "metadata": {},
     "output_type": "execute_result"
    }
   ],
   "source": [
    "df.head()"
   ]
  },
  {
   "cell_type": "code",
   "execution_count": 5,
   "id": "f1b33bb5-3cb0-46b4-8893-810280751b9f",
   "metadata": {},
   "outputs": [
    {
     "data": {
      "text/html": [
       "<div>\n",
       "<style scoped>\n",
       "    .dataframe tbody tr th:only-of-type {\n",
       "        vertical-align: middle;\n",
       "    }\n",
       "\n",
       "    .dataframe tbody tr th {\n",
       "        vertical-align: top;\n",
       "    }\n",
       "\n",
       "    .dataframe thead th {\n",
       "        text-align: right;\n",
       "    }\n",
       "</style>\n",
       "<table border=\"1\" class=\"dataframe\">\n",
       "  <thead>\n",
       "    <tr style=\"text-align: right;\">\n",
       "      <th></th>\n",
       "      <th>Highest Layer</th>\n",
       "      <th>Transport Layer</th>\n",
       "      <th>Source IP</th>\n",
       "      <th>Dest IP</th>\n",
       "      <th>Source Port</th>\n",
       "      <th>Dest Port</th>\n",
       "      <th>Packet Length</th>\n",
       "      <th>Packets/Time</th>\n",
       "      <th>target</th>\n",
       "    </tr>\n",
       "  </thead>\n",
       "  <tbody>\n",
       "    <tr>\n",
       "      <th>852580</th>\n",
       "      <td>DATA</td>\n",
       "      <td>UDP</td>\n",
       "      <td>0</td>\n",
       "      <td>192.168.1.1</td>\n",
       "      <td>50890</td>\n",
       "      <td>5201</td>\n",
       "      <td>834</td>\n",
       "      <td>19.3</td>\n",
       "      <td>0</td>\n",
       "    </tr>\n",
       "    <tr>\n",
       "      <th>852581</th>\n",
       "      <td>DATA</td>\n",
       "      <td>UDP</td>\n",
       "      <td>0</td>\n",
       "      <td>192.168.1.1</td>\n",
       "      <td>50890</td>\n",
       "      <td>5201</td>\n",
       "      <td>834</td>\n",
       "      <td>19.8</td>\n",
       "      <td>0</td>\n",
       "    </tr>\n",
       "    <tr>\n",
       "      <th>852582</th>\n",
       "      <td>DATA</td>\n",
       "      <td>UDP</td>\n",
       "      <td>0</td>\n",
       "      <td>192.168.1.1</td>\n",
       "      <td>50890</td>\n",
       "      <td>5201</td>\n",
       "      <td>834</td>\n",
       "      <td>20.3</td>\n",
       "      <td>0</td>\n",
       "    </tr>\n",
       "    <tr>\n",
       "      <th>852583</th>\n",
       "      <td>DATA</td>\n",
       "      <td>UDP</td>\n",
       "      <td>0</td>\n",
       "      <td>192.168.1.1</td>\n",
       "      <td>50890</td>\n",
       "      <td>5201</td>\n",
       "      <td>834</td>\n",
       "      <td>20.8</td>\n",
       "      <td>0</td>\n",
       "    </tr>\n",
       "    <tr>\n",
       "      <th>852584</th>\n",
       "      <td>DATA</td>\n",
       "      <td>UDP</td>\n",
       "      <td>0</td>\n",
       "      <td>192.168.1.1</td>\n",
       "      <td>50890</td>\n",
       "      <td>5201</td>\n",
       "      <td>834</td>\n",
       "      <td>21.4</td>\n",
       "      <td>0</td>\n",
       "    </tr>\n",
       "  </tbody>\n",
       "</table>\n",
       "</div>"
      ],
      "text/plain": [
       "       Highest Layer Transport Layer  Source IP      Dest IP  Source Port  \\\n",
       "852580          DATA             UDP          0  192.168.1.1        50890   \n",
       "852581          DATA             UDP          0  192.168.1.1        50890   \n",
       "852582          DATA             UDP          0  192.168.1.1        50890   \n",
       "852583          DATA             UDP          0  192.168.1.1        50890   \n",
       "852584          DATA             UDP          0  192.168.1.1        50890   \n",
       "\n",
       "        Dest Port  Packet Length  Packets/Time  target  \n",
       "852580       5201            834          19.3       0  \n",
       "852581       5201            834          19.8       0  \n",
       "852582       5201            834          20.3       0  \n",
       "852583       5201            834          20.8       0  \n",
       "852584       5201            834          21.4       0  "
      ]
     },
     "execution_count": 5,
     "metadata": {},
     "output_type": "execute_result"
    }
   ],
   "source": [
    "df.tail()"
   ]
  },
  {
   "cell_type": "code",
   "execution_count": null,
   "id": "7652cf21-8495-4050-b9bc-0345dffa0f65",
   "metadata": {},
   "outputs": [],
   "source": []
  },
  {
   "cell_type": "code",
   "execution_count": 6,
   "id": "da97cf33-5476-4180-a719-96cf980849be",
   "metadata": {},
   "outputs": [
    {
     "data": {
      "text/html": [
       "<div>\n",
       "<style scoped>\n",
       "    .dataframe tbody tr th:only-of-type {\n",
       "        vertical-align: middle;\n",
       "    }\n",
       "\n",
       "    .dataframe tbody tr th {\n",
       "        vertical-align: top;\n",
       "    }\n",
       "\n",
       "    .dataframe thead th {\n",
       "        text-align: right;\n",
       "    }\n",
       "</style>\n",
       "<table border=\"1\" class=\"dataframe\">\n",
       "  <thead>\n",
       "    <tr style=\"text-align: right;\">\n",
       "      <th></th>\n",
       "      <th>Highest Layer</th>\n",
       "      <th>Transport Layer</th>\n",
       "      <th>Source IP</th>\n",
       "      <th>Dest IP</th>\n",
       "      <th>Source Port</th>\n",
       "      <th>Dest Port</th>\n",
       "      <th>Packet Length</th>\n",
       "      <th>Packets/Time</th>\n",
       "      <th>target</th>\n",
       "    </tr>\n",
       "  </thead>\n",
       "  <tbody>\n",
       "    <tr>\n",
       "      <th>0</th>\n",
       "      <td>ARP</td>\n",
       "      <td>UDP</td>\n",
       "      <td>1</td>\n",
       "      <td>192.168.1.1</td>\n",
       "      <td>0</td>\n",
       "      <td>0</td>\n",
       "      <td>60</td>\n",
       "      <td>92.8</td>\n",
       "      <td>1</td>\n",
       "    </tr>\n",
       "    <tr>\n",
       "      <th>1</th>\n",
       "      <td>ARP</td>\n",
       "      <td>UDP</td>\n",
       "      <td>0</td>\n",
       "      <td>192.168.1.10</td>\n",
       "      <td>0</td>\n",
       "      <td>0</td>\n",
       "      <td>42</td>\n",
       "      <td>92.9</td>\n",
       "      <td>0</td>\n",
       "    </tr>\n",
       "    <tr>\n",
       "      <th>2</th>\n",
       "      <td>ARP</td>\n",
       "      <td>UDP</td>\n",
       "      <td>1</td>\n",
       "      <td>192.168.1.1</td>\n",
       "      <td>0</td>\n",
       "      <td>0</td>\n",
       "      <td>60</td>\n",
       "      <td>362.8</td>\n",
       "      <td>1</td>\n",
       "    </tr>\n",
       "    <tr>\n",
       "      <th>3</th>\n",
       "      <td>ARP</td>\n",
       "      <td>UDP</td>\n",
       "      <td>0</td>\n",
       "      <td>192.168.1.12</td>\n",
       "      <td>0</td>\n",
       "      <td>0</td>\n",
       "      <td>42</td>\n",
       "      <td>362.8</td>\n",
       "      <td>0</td>\n",
       "    </tr>\n",
       "    <tr>\n",
       "      <th>4</th>\n",
       "      <td>ARP</td>\n",
       "      <td>UDP</td>\n",
       "      <td>1</td>\n",
       "      <td>192.168.1.1</td>\n",
       "      <td>0</td>\n",
       "      <td>0</td>\n",
       "      <td>60</td>\n",
       "      <td>364.3</td>\n",
       "      <td>1</td>\n",
       "    </tr>\n",
       "  </tbody>\n",
       "</table>\n",
       "</div>"
      ],
      "text/plain": [
       "  Highest Layer Transport Layer  Source IP       Dest IP  Source Port  \\\n",
       "0           ARP             UDP          1   192.168.1.1            0   \n",
       "1           ARP             UDP          0  192.168.1.10            0   \n",
       "2           ARP             UDP          1   192.168.1.1            0   \n",
       "3           ARP             UDP          0  192.168.1.12            0   \n",
       "4           ARP             UDP          1   192.168.1.1            0   \n",
       "\n",
       "   Dest Port  Packet Length  Packets/Time  target  \n",
       "0          0             60          92.8       1  \n",
       "1          0             42          92.9       0  \n",
       "2          0             60         362.8       1  \n",
       "3          0             42         362.8       0  \n",
       "4          0             60         364.3       1  "
      ]
     },
     "execution_count": 6,
     "metadata": {},
     "output_type": "execute_result"
    }
   ],
   "source": [
    "df.head()"
   ]
  },
  {
   "cell_type": "code",
   "execution_count": 7,
   "id": "8d173ff5-5bb3-4f4c-9fcf-14eba4bfcdaa",
   "metadata": {},
   "outputs": [
    {
     "name": "stdout",
     "output_type": "stream",
     "text": [
      "<class 'pandas.core.frame.DataFrame'>\n",
      "RangeIndex: 852585 entries, 0 to 852584\n",
      "Data columns (total 9 columns):\n",
      " #   Column           Non-Null Count   Dtype  \n",
      "---  ------           --------------   -----  \n",
      " 0   Highest Layer    852585 non-null  object \n",
      " 1   Transport Layer  852585 non-null  object \n",
      " 2   Source IP        852585 non-null  int64  \n",
      " 3   Dest IP          852585 non-null  object \n",
      " 4   Source Port      852585 non-null  int64  \n",
      " 5   Dest Port        852585 non-null  int64  \n",
      " 6   Packet Length    852585 non-null  int64  \n",
      " 7   Packets/Time     852585 non-null  float64\n",
      " 8   target           852585 non-null  int64  \n",
      "dtypes: float64(1), int64(5), object(3)\n",
      "memory usage: 58.5+ MB\n"
     ]
    }
   ],
   "source": [
    "df.info()"
   ]
  },
  {
   "cell_type": "code",
   "execution_count": 8,
   "id": "b2ca08c7-059c-4bdf-b565-8f175e278ed7",
   "metadata": {},
   "outputs": [
    {
     "data": {
      "text/plain": [
       "766840"
      ]
     },
     "execution_count": 8,
     "metadata": {},
     "output_type": "execute_result"
    }
   ],
   "source": [
    "df.duplicated().sum()"
   ]
  },
  {
   "cell_type": "code",
   "execution_count": 9,
   "id": "77ffe6d9-54f3-465b-965a-a63a61804b6c",
   "metadata": {},
   "outputs": [],
   "source": [
    "df = df.drop_duplicates()"
   ]
  },
  {
   "cell_type": "code",
   "execution_count": 10,
   "id": "5e56f424-e820-4a8d-8c43-0cbbb8ff8cd8",
   "metadata": {},
   "outputs": [
    {
     "data": {
      "text/plain": [
       "<bound method Series.sum of 0         False\n",
       "1         False\n",
       "2         False\n",
       "3         False\n",
       "4         False\n",
       "          ...  \n",
       "851026    False\n",
       "851031    False\n",
       "851070    False\n",
       "851089    False\n",
       "851113    False\n",
       "Length: 85745, dtype: bool>"
      ]
     },
     "execution_count": 10,
     "metadata": {},
     "output_type": "execute_result"
    }
   ],
   "source": [
    "df.duplicated().sum"
   ]
  },
  {
   "cell_type": "code",
   "execution_count": 11,
   "id": "89d7aaa4-a9b4-428f-829e-fea3721067b5",
   "metadata": {},
   "outputs": [
    {
     "data": {
      "text/plain": [
       "Highest Layer      0\n",
       "Transport Layer    0\n",
       "Source IP          0\n",
       "Dest IP            0\n",
       "Source Port        0\n",
       "Dest Port          0\n",
       "Packet Length      0\n",
       "Packets/Time       0\n",
       "target             0\n",
       "dtype: int64"
      ]
     },
     "execution_count": 11,
     "metadata": {},
     "output_type": "execute_result"
    }
   ],
   "source": [
    "df.isnull().sum()"
   ]
  },
  {
   "cell_type": "code",
   "execution_count": 12,
   "id": "402b2fff-aaf1-4047-ad51-a378197fbdd7",
   "metadata": {},
   "outputs": [
    {
     "data": {
      "text/plain": [
       "array([1, 0], dtype=int64)"
      ]
     },
     "execution_count": 12,
     "metadata": {},
     "output_type": "execute_result"
    }
   ],
   "source": [
    "df[\"target\"].unique()"
   ]
  },
  {
   "cell_type": "code",
   "execution_count": 13,
   "id": "7f4e113a-9360-4da8-b8aa-676b81d5d450",
   "metadata": {},
   "outputs": [
    {
     "data": {
      "text/plain": [
       "2"
      ]
     },
     "execution_count": 13,
     "metadata": {},
     "output_type": "execute_result"
    }
   ],
   "source": [
    "df[\"target\"].nunique()"
   ]
  },
  {
   "cell_type": "code",
   "execution_count": 14,
   "id": "5fabd422-254f-4e8a-98b8-a951fe20011e",
   "metadata": {},
   "outputs": [
    {
     "name": "stderr",
     "output_type": "stream",
     "text": [
      "C:\\Users\\malle\\AppData\\Local\\Temp\\ipykernel_14748\\2942152131.py:8: SettingWithCopyWarning: \n",
      "A value is trying to be set on a copy of a slice from a DataFrame.\n",
      "Try using .loc[row_indexer,col_indexer] = value instead\n",
      "\n",
      "See the caveats in the documentation: https://pandas.pydata.org/pandas-docs/stable/user_guide/indexing.html#returning-a-view-versus-a-copy\n",
      "  df[\"Highest Layer\"]=le.fit_transform(df[\"Highest Layer\"])\n",
      "C:\\Users\\malle\\AppData\\Local\\Temp\\ipykernel_14748\\2942152131.py:9: SettingWithCopyWarning: \n",
      "A value is trying to be set on a copy of a slice from a DataFrame.\n",
      "Try using .loc[row_indexer,col_indexer] = value instead\n",
      "\n",
      "See the caveats in the documentation: https://pandas.pydata.org/pandas-docs/stable/user_guide/indexing.html#returning-a-view-versus-a-copy\n",
      "  df[\"Transport Layer\"]=le.fit_transform(df[\"Transport Layer\"])\n",
      "C:\\Users\\malle\\AppData\\Local\\Temp\\ipykernel_14748\\2942152131.py:10: SettingWithCopyWarning: \n",
      "A value is trying to be set on a copy of a slice from a DataFrame.\n",
      "Try using .loc[row_indexer,col_indexer] = value instead\n",
      "\n",
      "See the caveats in the documentation: https://pandas.pydata.org/pandas-docs/stable/user_guide/indexing.html#returning-a-view-versus-a-copy\n",
      "  df[\"Dest IP\"]=le.fit_transform(df[\"Dest IP\"])\n"
     ]
    }
   ],
   "source": [
    "from sklearn.preprocessing import LabelEncoder\n",
    "\n",
    "# Create a copy of the dataframe to avoid modifying the original\n",
    "\n",
    "\n",
    "# Initialize label encoder\n",
    "le = LabelEncoder()\n",
    "df[\"Highest Layer\"]=le.fit_transform(df[\"Highest Layer\"])\n",
    "df[\"Transport Layer\"]=le.fit_transform(df[\"Transport Layer\"])\n",
    "df[\"Dest IP\"]=le.fit_transform(df[\"Dest IP\"])\n",
    "\n",
    "# Loop through each column\n"
   ]
  },
  {
   "cell_type": "code",
   "execution_count": 15,
   "id": "30a01362-3732-43f1-b393-6d6a9763c6ba",
   "metadata": {},
   "outputs": [],
   "source": [
    "label_map = {1: \"DDoS_Attack\", 0: \"Normal_Attack\"}"
   ]
  },
  {
   "cell_type": "code",
   "execution_count": 16,
   "id": "54aba059-0826-4d2a-b3a5-a638affc64fe",
   "metadata": {},
   "outputs": [
    {
     "data": {
      "image/png": "[encoded data removed]",
      "text/plain": [
       "<Figure size 1000x1000 with 1 Axes>"
      ]
     },
     "metadata": {},
     "output_type": "display_data"
    }
   ],
   "source": [
    "import seaborn as sns\n",
    "import matplotlib.pyplot as plt\n",
    "\n",
    "\n",
    "# Create a count plot\n",
    "sns.set(style=\"darkgrid\")  # Set the style of the plot\n",
    "plt.figure(figsize=(10, 10))  # Set the figure size\n",
    "ax = sns.countplot(x='target', data=df)\n",
    "plt.title(\"Count Plot\")  # Add a title to the plot\n",
    "plt.xlabel(\"Categories\")  # Add label to x-axis\n",
    "plt.ylabel(\"Count\")  # Add label to y-axis\n",
    "# Annotate each bar with its count value\n",
    "for p in ax.patches:\n",
    "    ax.annotate(f'{p.get_height()}', (p.get_x() + p.get_width() / 2., p.get_height()),\n",
    "                ha='center', va='center', fontsize=10, color='black', xytext=(0, 5),\n",
    "                textcoords='offset points')\n",
    "\n",
    "plt.show()  # Display the plot"
   ]
  },
  {
   "cell_type": "code",
   "execution_count": 17,
   "id": "8d7efa19-9001-40fc-a94a-fc79699da3e1",
   "metadata": {},
   "outputs": [
    {
     "name": "stdout",
     "output_type": "stream",
     "text": [
      "target\n",
      "1    79220\n",
      "0    79220\n",
      "Name: count, dtype: int64\n"
     ]
    }
   ],
   "source": [
    "from imblearn.over_sampling import SMOTE\n",
    "from sklearn.model_selection import train_test_split\n",
    "\n",
    "# Separate features and target\n",
    "X = df.drop(['target', 'Label'], axis=1, errors='ignore')\n",
    "y = df['target']\n",
    "\n",
    "# Apply SMOTE\n",
    "smote = SMOTE(random_state=42)\n",
    "X_resampled, y_resampled = smote.fit_resample(X, y)\n",
    "\n",
    "# Combine into DataFrame\n",
    "df_balanced= pd.concat([pd.DataFrame(X_resampled, columns=X.columns), pd.Series(y_resampled, name='target')], axis=1)\n",
    "\n",
    "print(df_balanced['target'].value_counts())\n"
   ]
  },
  {
   "cell_type": "code",
   "execution_count": 18,
   "id": "2d98513c-ee77-4b0d-826b-5713c64e638e",
   "metadata": {},
   "outputs": [
    {
     "data": {
      "image/png": "[encoded data removed]",
      "text/plain": [
       "<Figure size 1000x1000 with 1 Axes>"
      ]
     },
     "metadata": {},
     "output_type": "display_data"
    }
   ],
   "source": [
    "import seaborn as sns\n",
    "import matplotlib.pyplot as plt\n",
    "\n",
    "\n",
    "# Create a count plot\n",
    "sns.set(style=\"darkgrid\")  # Set the style of the plot\n",
    "plt.figure(figsize=(10, 10))  # Set the figure size\n",
    "ax = sns.countplot(x='target', data=df_balanced)\n",
    "plt.title(\"Count Plot\")  # Add a title to the plot\n",
    "plt.xlabel(\"Categories\")  # Add label to x-axis\n",
    "plt.ylabel(\"Count\")  # Add label to y-axis\n",
    "# Annotate each bar with its count value\n",
    "for p in ax.patches:\n",
    "    ax.annotate(f'{p.get_height()}', (p.get_x() + p.get_width() / 2., p.get_height()),\n",
    "                ha='center', va='center', fontsize=10, color='black', xytext=(0, 5),\n",
    "                textcoords='offset points')\n",
    "\n",
    "plt.show()  # Display the plot"
   ]
  },
  {
   "cell_type": "code",
   "execution_count": 19,
   "id": "836cef32-6655-4f7c-b44f-7ccb25d5356f",
   "metadata": {},
   "outputs": [],
   "source": [
    "from sklearn.model_selection import train_test_split"
   ]
  },
  {
   "cell_type": "code",
   "execution_count": 20,
   "id": "2a29bff1-d534-47f4-813c-374a6ff7233d",
   "metadata": {},
   "outputs": [],
   "source": [
    "x=df_balanced.iloc[:,:-1]"
   ]
  },
  {
   "cell_type": "code",
   "execution_count": 21,
   "id": "6f4c5cb4-9a38-4e8a-b09c-19ee503029ce",
   "metadata": {},
   "outputs": [
    {
     "data": {
      "text/html": [
       "<div>\n",
       "<style scoped>\n",
       "    .dataframe tbody tr th:only-of-type {\n",
       "        vertical-align: middle;\n",
       "    }\n",
       "\n",
       "    .dataframe tbody tr th {\n",
       "        vertical-align: top;\n",
       "    }\n",
       "\n",
       "    .dataframe thead th {\n",
       "        text-align: right;\n",
       "    }\n",
       "</style>\n",
       "<table border=\"1\" class=\"dataframe\">\n",
       "  <thead>\n",
       "    <tr style=\"text-align: right;\">\n",
       "      <th></th>\n",
       "      <th>Highest Layer</th>\n",
       "      <th>Transport Layer</th>\n",
       "      <th>Source IP</th>\n",
       "      <th>Dest IP</th>\n",
       "      <th>Source Port</th>\n",
       "      <th>Dest Port</th>\n",
       "      <th>Packet Length</th>\n",
       "      <th>Packets/Time</th>\n",
       "    </tr>\n",
       "  </thead>\n",
       "  <tbody>\n",
       "    <tr>\n",
       "      <th>0</th>\n",
       "      <td>0</td>\n",
       "      <td>1</td>\n",
       "      <td>1</td>\n",
       "      <td>5</td>\n",
       "      <td>0</td>\n",
       "      <td>0</td>\n",
       "      <td>60</td>\n",
       "      <td>92.800000</td>\n",
       "    </tr>\n",
       "    <tr>\n",
       "      <th>1</th>\n",
       "      <td>0</td>\n",
       "      <td>1</td>\n",
       "      <td>0</td>\n",
       "      <td>6</td>\n",
       "      <td>0</td>\n",
       "      <td>0</td>\n",
       "      <td>42</td>\n",
       "      <td>92.900000</td>\n",
       "    </tr>\n",
       "    <tr>\n",
       "      <th>2</th>\n",
       "      <td>0</td>\n",
       "      <td>1</td>\n",
       "      <td>1</td>\n",
       "      <td>5</td>\n",
       "      <td>0</td>\n",
       "      <td>0</td>\n",
       "      <td>60</td>\n",
       "      <td>362.800000</td>\n",
       "    </tr>\n",
       "    <tr>\n",
       "      <th>3</th>\n",
       "      <td>0</td>\n",
       "      <td>1</td>\n",
       "      <td>0</td>\n",
       "      <td>8</td>\n",
       "      <td>0</td>\n",
       "      <td>0</td>\n",
       "      <td>42</td>\n",
       "      <td>362.800000</td>\n",
       "    </tr>\n",
       "    <tr>\n",
       "      <th>4</th>\n",
       "      <td>0</td>\n",
       "      <td>1</td>\n",
       "      <td>1</td>\n",
       "      <td>5</td>\n",
       "      <td>0</td>\n",
       "      <td>0</td>\n",
       "      <td>60</td>\n",
       "      <td>364.300000</td>\n",
       "    </tr>\n",
       "    <tr>\n",
       "      <th>...</th>\n",
       "      <td>...</td>\n",
       "      <td>...</td>\n",
       "      <td>...</td>\n",
       "      <td>...</td>\n",
       "      <td>...</td>\n",
       "      <td>...</td>\n",
       "      <td>...</td>\n",
       "      <td>...</td>\n",
       "    </tr>\n",
       "    <tr>\n",
       "      <th>158435</th>\n",
       "      <td>3</td>\n",
       "      <td>0</td>\n",
       "      <td>0</td>\n",
       "      <td>5</td>\n",
       "      <td>49158</td>\n",
       "      <td>5201</td>\n",
       "      <td>1514</td>\n",
       "      <td>113.670089</td>\n",
       "    </tr>\n",
       "    <tr>\n",
       "      <th>158436</th>\n",
       "      <td>9</td>\n",
       "      <td>0</td>\n",
       "      <td>0</td>\n",
       "      <td>11</td>\n",
       "      <td>5201</td>\n",
       "      <td>49158</td>\n",
       "      <td>54</td>\n",
       "      <td>278.844413</td>\n",
       "    </tr>\n",
       "    <tr>\n",
       "      <th>158437</th>\n",
       "      <td>3</td>\n",
       "      <td>0</td>\n",
       "      <td>0</td>\n",
       "      <td>5</td>\n",
       "      <td>49158</td>\n",
       "      <td>5201</td>\n",
       "      <td>858</td>\n",
       "      <td>276.796009</td>\n",
       "    </tr>\n",
       "    <tr>\n",
       "      <th>158438</th>\n",
       "      <td>9</td>\n",
       "      <td>0</td>\n",
       "      <td>0</td>\n",
       "      <td>11</td>\n",
       "      <td>5201</td>\n",
       "      <td>49158</td>\n",
       "      <td>54</td>\n",
       "      <td>87.072635</td>\n",
       "    </tr>\n",
       "    <tr>\n",
       "      <th>158439</th>\n",
       "      <td>3</td>\n",
       "      <td>0</td>\n",
       "      <td>0</td>\n",
       "      <td>5</td>\n",
       "      <td>49158</td>\n",
       "      <td>5201</td>\n",
       "      <td>1514</td>\n",
       "      <td>13.567350</td>\n",
       "    </tr>\n",
       "  </tbody>\n",
       "</table>\n",
       "<p>158440 rows × 8 columns</p>\n",
       "</div>"
      ],
      "text/plain": [
       "        Highest Layer  Transport Layer  Source IP  Dest IP  Source Port  \\\n",
       "0                   0                1          1        5            0   \n",
       "1                   0                1          0        6            0   \n",
       "2                   0                1          1        5            0   \n",
       "3                   0                1          0        8            0   \n",
       "4                   0                1          1        5            0   \n",
       "...               ...              ...        ...      ...          ...   \n",
       "158435              3                0          0        5        49158   \n",
       "158436              9                0          0       11         5201   \n",
       "158437              3                0          0        5        49158   \n",
       "158438              9                0          0       11         5201   \n",
       "158439              3                0          0        5        49158   \n",
       "\n",
       "        Dest Port  Packet Length  Packets/Time  \n",
       "0               0             60     92.800000  \n",
       "1               0             42     92.900000  \n",
       "2               0             60    362.800000  \n",
       "3               0             42    362.800000  \n",
       "4               0             60    364.300000  \n",
       "...           ...            ...           ...  \n",
       "158435       5201           1514    113.670089  \n",
       "158436      49158             54    278.844413  \n",
       "158437       5201            858    276.796009  \n",
       "158438      49158             54     87.072635  \n",
       "158439       5201           1514     13.567350  \n",
       "\n",
       "[158440 rows x 8 columns]"
      ]
     },
     "execution_count": 21,
     "metadata": {},
     "output_type": "execute_result"
    }
   ],
   "source": [
    "x"
   ]
  },
  {
   "cell_type": "code",
   "execution_count": 22,
   "id": "324393dd-4f7d-47de-be5d-92adb9bcf3b0",
   "metadata": {},
   "outputs": [],
   "source": [
    "y=df_balanced.iloc[:,-1]"
   ]
  },
  {
   "cell_type": "code",
   "execution_count": 23,
   "id": "73d91073-bfb5-4669-a4b1-582f9d3f4128",
   "metadata": {},
   "outputs": [
    {
     "data": {
      "text/plain": [
       "0         1\n",
       "1         0\n",
       "2         1\n",
       "3         0\n",
       "4         1\n",
       "         ..\n",
       "158435    0\n",
       "158436    0\n",
       "158437    0\n",
       "158438    0\n",
       "158439    0\n",
       "Name: target, Length: 158440, dtype: int64"
      ]
     },
     "execution_count": 23,
     "metadata": {},
     "output_type": "execute_result"
    }
   ],
   "source": [
    "y"
   ]
  },
  {
   "cell_type": "code",
   "execution_count": 24,
   "id": "bfa2dbc4-ba2d-47b5-87f8-0e79e01fb985",
   "metadata": {},
   "outputs": [],
   "source": [
    "x_train,x_test,y_train,y_test=train_test_split(x,y,test_size=0.20,random_state=42)"
   ]
  },
  {
   "cell_type": "code",
   "execution_count": 25,
   "id": "44d27853-29d2-4e63-a5ca-693260ff3936",
   "metadata": {},
   "outputs": [
    {
     "data": {
      "text/plain": [
       "(126752, 8)"
      ]
     },
     "execution_count": 25,
     "metadata": {},
     "output_type": "execute_result"
    }
   ],
   "source": [
    "x_train.shape"
   ]
  },
  {
   "cell_type": "code",
   "execution_count": 26,
   "id": "8470c21e-abe1-4fe1-bdb9-bf53d8ec7696",
   "metadata": {},
   "outputs": [
    {
     "data": {
      "text/plain": [
       "(126752,)"
      ]
     },
     "execution_count": 26,
     "metadata": {},
     "output_type": "execute_result"
    }
   ],
   "source": [
    "y_train.shape"
   ]
  },
  {
   "cell_type": "code",
   "execution_count": 27,
   "id": "cf942e43-5480-404e-9b4f-1b1dfe118ca0",
   "metadata": {},
   "outputs": [
    {
     "data": {
      "text/plain": [
       "(31688, 8)"
      ]
     },
     "execution_count": 27,
     "metadata": {},
     "output_type": "execute_result"
    }
   ],
   "source": [
    "x_test.shape"
   ]
  },
  {
   "cell_type": "code",
   "execution_count": 28,
   "id": "494e7a61-8c53-4922-9191-f41ef9fde511",
   "metadata": {},
   "outputs": [
    {
     "data": {
      "text/plain": [
       "(31688,)"
      ]
     },
     "execution_count": 28,
     "metadata": {},
     "output_type": "execute_result"
    }
   ],
   "source": [
    "y_test.shape"
   ]
  },
  {
   "cell_type": "code",
   "execution_count": 29,
   "id": "edb07d8f-796a-4370-9023-69a29b076faa",
   "metadata": {},
   "outputs": [],
   "source": [
    "labels = [\"Normal_Attack\", \"DDoS_Attack\"]  # Index 0 corresponds to class 0\n"
   ]
  },
  {
   "cell_type": "code",
   "execution_count": 30,
   "id": "2cc4137f-9903-40d6-8359-d3d7688d95f7",
   "metadata": {},
   "outputs": [],
   "source": [
    "from sklearn.metrics import accuracy_score\n",
    "from sklearn.metrics import precision_score\n",
    "from sklearn.metrics import recall_score\n",
    "from sklearn.metrics import f1_score\n",
    "from sklearn.metrics import confusion_matrix\n",
    "from sklearn.metrics import classification_report"
   ]
  },
  {
   "cell_type": "code",
   "execution_count": 31,
   "id": "8873c786-7d96-41ca-ad47-0aed24f4620e",
   "metadata": {},
   "outputs": [],
   "source": [
    "accuracy=[]\n",
    "precision=[]\n",
    "recall=[]\n",
    "fscore=[]"
   ]
  },
  {
   "cell_type": "code",
   "execution_count": 51,
   "id": "497e5763-341d-4958-850c-ea3caa4d5bea",
   "metadata": {},
   "outputs": [],
   "source": [
    "#function to calculate various metrics such as accuracy, precision etc\n",
    "def calculateMetrics(algorithm, testY,predict):\n",
    "    labels = [\"Normal_Attack\", \"DDoS_Attack\"] \n",
    "    p = precision_score(testY, predict,average='macro') * 100\n",
    "    r = recall_score(testY, predict,average='macro') * 100\n",
    "    f = f1_score(testY, predict,average='macro') * 100\n",
    "    a = accuracy_score(testY,predict)*100 \n",
    "    accuracy.append(a)\n",
    "    precision.append(p)\n",
    "    recall.append(r)\n",
    "    fscore.append(f)\n",
    "    print(algorithm+' Accuracy    : '+str(a))\n",
    "    print(algorithm+' Precision   : '+str(p))\n",
    "    print(algorithm+' Recall      : '+str(r))\n",
    "    print(algorithm+' FSCORE      : '+str(f))\n",
    "    report=classification_report(predict, testY,target_names=labels)\n",
    "    print('\\n',algorithm+\" classification report\\n\",report)\n",
    "    conf_matrix = confusion_matrix(testY, predict) \n",
    "    plt.figure(figsize =(5, 5)) \n",
    "    ax = sns.heatmap(conf_matrix, xticklabels = labels, yticklabels = labels, annot = True, cmap=\"Blues\" ,fmt =\"g\");\n",
    "    ax.set_ylim([0,len(labels)])\n",
    "    plt.title(algorithm+\" Confusion matrix\") \n",
    "    plt.ylabel('True class') \n",
    "    plt.xlabel('Predicted class') \n",
    "    plt.show()"
   ]
  },
  {
   "cell_type": "code",
   "execution_count": 52,
   "id": "4cffd6bd-c252-4c88-b3ca-5710c8fd26c8",
   "metadata": {},
   "outputs": [
    {
     "name": "stdout",
     "output_type": "stream",
     "text": [
      "RandomForestClassifier model loaded successfully.\n",
      "RandomForestClassifier Accuracy    : 100.0\n",
      "RandomForestClassifier Precision   : 100.0\n",
      "RandomForestClassifier Recall      : 100.0\n",
      "RandomForestClassifier FSCORE      : 100.0\n",
      "\n",
      " RandomForestClassifier classification report\n",
      "                precision    recall  f1-score   support\n",
      "\n",
      "Normal_Attack       1.00      1.00      1.00     15941\n",
      "  DDoS_Attack       1.00      1.00      1.00     15747\n",
      "\n",
      "     accuracy                           1.00     31688\n",
      "    macro avg       1.00      1.00      1.00     31688\n",
      " weighted avg       1.00      1.00      1.00     31688\n",
      "\n"
     ]
    },
    {
     "data": {
      "image/png": "[encoded data removed]",
      "text/plain": [
       "<Figure size 500x500 with 2 Axes>"
      ]
     },
     "metadata": {},
     "output_type": "display_data"
    }
   ],
   "source": [
    "import os\n",
    "import joblib\n",
    "from sklearn.ensemble import RandomForestClassifier\n",
    "\n",
    "# Ensure the model directory exists\n",
    "os.makedirs('model', exist_ok=True)\n",
    "\n",
    "# Define the model file path\n",
    "model_path = 'model/RandomForestClassifier.pkl'\n",
    "\n",
    "if os.path.exists(model_path):\n",
    "    # Load the trained model from the file\n",
    "    rf = joblib.load(model_path)\n",
    "    print(\"RandomForestClassifier model loaded successfully.\")\n",
    "    y_pred = rf.predict(x_test)\n",
    "    calculateMetrics(\"RandomForestClassifier\", y_pred, y_test)\n",
    "else:\n",
    "    # Train the model (assuming x_train and y_train are defined)\n",
    "    rf = RandomForestClassifier()\n",
    "    rf.fit(x_train, y_train)\n",
    "    # Save the trained model to a file\n",
    "    joblib.dump(rf, model_path)\n",
    "    print(\"RandomForestClassifier model saved successfully.\")\n",
    "    y_pred = rf.predict(x_test)\n",
    "    calculateMetrics(\"RandomForestClassifier\", y_pred, y_test)\n"
   ]
  },
  {
   "cell_type": "code",
   "execution_count": 53,
   "id": "1284b74f-f966-498f-8c68-75307748af2a",
   "metadata": {},
   "outputs": [
    {
     "name": "stdout",
     "output_type": "stream",
     "text": [
      "LGBMClassifier model loaded successfully.\n",
      "LGBMClassifier Accuracy    : 100.0\n",
      "LGBMClassifier Precision   : 100.0\n",
      "LGBMClassifier Recall      : 100.0\n",
      "LGBMClassifier FSCORE      : 100.0\n",
      "\n",
      " LGBMClassifier classification report\n",
      "                precision    recall  f1-score   support\n",
      "\n",
      "Normal_Attack       1.00      1.00      1.00     15941\n",
      "  DDoS_Attack       1.00      1.00      1.00     15747\n",
      "\n",
      "     accuracy                           1.00     31688\n",
      "    macro avg       1.00      1.00      1.00     31688\n",
      " weighted avg       1.00      1.00      1.00     31688\n",
      "\n"
     ]
    },
    {
     "data": {
      "image/png": "[encoded data removed]",
      "text/plain": [
       "<Figure size 500x500 with 2 Axes>"
      ]
     },
     "metadata": {},
     "output_type": "display_data"
    }
   ],
   "source": [
    "import os\n",
    "import joblib\n",
    "from lightgbm import LGBMClassifier\n",
    "\n",
    "# Ensure the model directory exists\n",
    "os.makedirs('model', exist_ok=True)\n",
    "\n",
    "# Define the model file path\n",
    "model_path = 'model/LGBMClassifier.pkl'\n",
    "\n",
    "if os.path.exists(model_path):\n",
    "    # Load the trained model from the file\n",
    "    lgbm = joblib.load(model_path)\n",
    "    print(\"LGBMClassifier model loaded successfully.\")\n",
    "    y_pred = lgbm.predict(x_test)\n",
    "    calculateMetrics(\"LGBMClassifier\", y_pred, y_test)\n",
    "else:\n",
    "    # Train the model (assuming x_train and y_train are defined)\n",
    "    lgbm = LGBMClassifier(\n",
    "    n_estimators=5,        # Very few trees\n",
    "    max_depth=1,           # Very shallow trees\n",
    "    learning_rate=1.0,     # Too aggressive learning rate\n",
    "    num_leaves=2,          # Very limited complexity\n",
    "    min_data_in_leaf=100   # Forces leaves to have more samples (less flexible)\n",
    "    )\n",
    "    lgbm.fit(x_train, y_train)\n",
    "    # Save the trained model to a file\n",
    "    joblib.dump(lgbm, model_path)\n",
    "    print(\"LGBMClassifier model saved successfully.\")\n",
    "    y_pred = lgbm.predict(x_test)\n",
    "    calculateMetrics(\"LGBMClassifier\", y_pred, y_test)\n"
   ]
  },
  {
   "cell_type": "code",
   "execution_count": 54,
   "id": "75f612ee-774b-4040-91e8-e7095f8fb19f",
   "metadata": {},
   "outputs": [
    {
     "name": "stdout",
     "output_type": "stream",
     "text": [
      "DecisionTreeClassifier model loaded successfully.\n",
      "DecisionTreeClassifier Accuracy    : 100.0\n",
      "DecisionTreeClassifier Precision   : 100.0\n",
      "DecisionTreeClassifier Recall      : 100.0\n",
      "DecisionTreeClassifier FSCORE      : 100.0\n",
      "\n",
      " DecisionTreeClassifier classification report\n",
      "                precision    recall  f1-score   support\n",
      "\n",
      "Normal_Attack       1.00      1.00      1.00     15941\n",
      "  DDoS_Attack       1.00      1.00      1.00     15747\n",
      "\n",
      "     accuracy                           1.00     31688\n",
      "    macro avg       1.00      1.00      1.00     31688\n",
      " weighted avg       1.00      1.00      1.00     31688\n",
      "\n"
     ]
    },
    {
     "data": {
      "image/png": "[encoded data removed]",
      "text/plain": [
       "<Figure size 500x500 with 2 Axes>"
      ]
     },
     "metadata": {},
     "output_type": "display_data"
    }
   ],
   "source": [
    "import os\n",
    "import joblib\n",
    "from sklearn.tree import DecisionTreeClassifier\n",
    "\n",
    "# Ensure the model directory exists\n",
    "os.makedirs('model', exist_ok=True)\n",
    "\n",
    "# Define the model file path\n",
    "model_path = 'model/DecisionTreeClassifier.pkl'\n",
    "\n",
    "if os.path.exists(model_path):\n",
    "    # Load the trained model from the file\n",
    "    dt = joblib.load(model_path)\n",
    "    print(\"DecisionTreeClassifier model loaded successfully.\")\n",
    "    y_pred = dt.predict(x_test)\n",
    "    calculateMetrics(\"DecisionTreeClassifier\", y_pred, y_test)\n",
    "else:\n",
    "    # Train the model (assuming x_train and y_train are defined)\n",
    "    dt = DecisionTreeClassifier()\n",
    "    dt.fit(x_train, y_train)\n",
    "    # Save the trained model to a file\n",
    "    joblib.dump(dt, model_path)\n",
    "    print(\"DecisionTreeClassifier model saved successfully.\")\n",
    "    y_pred = dt.predict(x_test)\n",
    "    calculateMetrics(\"DecisionTreeClassifier\", y_pred, y_test)\n"
   ]
  },
  {
   "cell_type": "code",
   "execution_count": 55,
   "id": "fe5d370e-037b-4d20-a4a8-c96815f5e788",
   "metadata": {},
   "outputs": [
    {
     "name": "stdout",
     "output_type": "stream",
     "text": [
      "CatBoostClassifier model loaded successfully.\n",
      "CatBoostClassifier Accuracy    : 100.0\n",
      "CatBoostClassifier Precision   : 100.0\n",
      "CatBoostClassifier Recall      : 100.0\n",
      "CatBoostClassifier FSCORE      : 100.0\n",
      "\n",
      " CatBoostClassifier classification report\n",
      "                precision    recall  f1-score   support\n",
      "\n",
      "Normal_Attack       1.00      1.00      1.00     15941\n",
      "  DDoS_Attack       1.00      1.00      1.00     15747\n",
      "\n",
      "     accuracy                           1.00     31688\n",
      "    macro avg       1.00      1.00      1.00     31688\n",
      " weighted avg       1.00      1.00      1.00     31688\n",
      "\n"
     ]
    },
    {
     "data": {
      "image/png": "[encoded data removed]",
      "text/plain": [
       "<Figure size 500x500 with 2 Axes>"
      ]
     },
     "metadata": {},
     "output_type": "display_data"
    }
   ],
   "source": [
    "import os\n",
    "import joblib\n",
    "from catboost import CatBoostClassifier\n",
    "\n",
    "# Ensure the model directory exists\n",
    "os.makedirs('model', exist_ok=True)\n",
    "\n",
    "# Define the model file path\n",
    "model_path = 'model/CatBoostClassifier.pkl'\n",
    "\n",
    "if os.path.exists(model_path):\n",
    "    # Load the trained model from the file\n",
    "    cb = joblib.load(model_path)\n",
    "    print(\"CatBoostClassifier model loaded successfully.\")\n",
    "    y_pred = cb.predict(x_test)\n",
    "    calculateMetrics(\"CatBoostClassifier\", y_pred, y_test)\n",
    "else:\n",
    "    # Train the model (assuming x_train and y_train are defined)\n",
    "    cb = CatBoostClassifier(verbose=0)  # suppress output\n",
    "    cb.fit(x_train, y_train)\n",
    "    # Save the trained model to a file\n",
    "    joblib.dump(cb, model_path)\n",
    "    print(\"CatBoostClassifier model saved successfully.\")\n",
    "    y_pred = cb.predict(x_test)\n",
    "    calculateMetrics(\"CatBoostClassifier\", y_pred, y_test)\n"
   ]
  },
  {
   "cell_type": "code",
   "execution_count": 56,
   "id": "1470b6ea-0753-4c67-98a4-fb48297d095b",
   "metadata": {},
   "outputs": [
    {
     "name": "stdout",
     "output_type": "stream",
     "text": [
      "KNN model loaded successfully.\n",
      "KNN Accuracy    : 99.9431961625852\n",
      "KNN Precision   : 99.94292354020715\n",
      "KNN Recall      : 99.94350291151086\n",
      "KNN FSCORE      : 99.94319371502492\n",
      "\n",
      " KNN classification report\n",
      "                precision    recall  f1-score   support\n",
      "\n",
      "Normal_Attack       1.00      1.00      1.00     15941\n",
      "  DDoS_Attack       1.00      1.00      1.00     15747\n",
      "\n",
      "     accuracy                           1.00     31688\n",
      "    macro avg       1.00      1.00      1.00     31688\n",
      " weighted avg       1.00      1.00      1.00     31688\n",
      "\n"
     ]
    },
    {
     "data": {
      "image/png": "[encoded data removed]",
      "text/plain": [
       "<Figure size 500x500 with 2 Axes>"
      ]
     },
     "metadata": {},
     "output_type": "display_data"
    }
   ],
   "source": [
    "import os\n",
    "import joblib\n",
    "from sklearn.neighbors import KNeighborsClassifier\n",
    "\n",
    "# Ensure the model directory exists\n",
    "os.makedirs('model', exist_ok=True)\n",
    "\n",
    "# Define the model file path\n",
    "model_path = 'model/KNN.pkl'\n",
    "\n",
    "if os.path.exists(model_path):\n",
    "    # Load the trained model from the file\n",
    "    knn = joblib.load(model_path)\n",
    "    print(\"KNN model loaded successfully.\")\n",
    "    y_pred = knn.predict(x_test)\n",
    "    calculateMetrics(\"KNN\", y_pred, y_test)\n",
    "else:\n",
    "    # Train the model (assuming x_train and y_train are defined)\n",
    "    knn = KNeighborsClassifier(n_neighbors=5)\n",
    "    knn.fit(x_train, y_train)\n",
    "    # Save the trained model to a file\n",
    "    joblib.dump(knn, model_path)\n",
    "    print(\"KNN model saved successfully.\")\n",
    "    y_pred = knn.predict(x_test)\n",
    "    calculateMetrics(\"KNN\", y_pred, y_test)\n"
   ]
  },
  {
   "cell_type": "code",
   "execution_count": 57,
   "id": "35548f3f-962b-4806-adb2-a100941f419c",
   "metadata": {},
   "outputs": [
    {
     "name": "stdout",
     "output_type": "stream",
     "text": [
      "Naive Bayes model saved successfully.\n",
      "Naive Bayes Accuracy    : 99.7286038879071\n",
      "Naive Bayes Precision   : 99.72693211405347\n",
      "Naive Bayes Recall      : 99.73170275160666\n",
      "Naive Bayes FSCORE      : 99.72858269629792\n",
      "\n",
      " Naive Bayes classification report\n",
      "                precision    recall  f1-score   support\n",
      "\n",
      "Normal_Attack       0.99      1.00      1.00     15941\n",
      "  DDoS_Attack       1.00      0.99      1.00     15747\n",
      "\n",
      "     accuracy                           1.00     31688\n",
      "    macro avg       1.00      1.00      1.00     31688\n",
      " weighted avg       1.00      1.00      1.00     31688\n",
      "\n"
     ]
    },
    {
     "data": {
      "image/png": "[encoded data removed]",
      "text/plain": [
       "<Figure size 500x500 with 2 Axes>"
      ]
     },
     "metadata": {},
     "output_type": "display_data"
    }
   ],
   "source": [
    "import os\n",
    "import joblib\n",
    "from sklearn.naive_bayes import GaussianNB\n",
    "\n",
    "# Ensure the model directory exists\n",
    "os.makedirs('model', exist_ok=True)\n",
    "\n",
    "# Define the model file path\n",
    "model_path = 'model/NaiveBayes.pkl'\n",
    "\n",
    "if os.path.exists(model_path):\n",
    "    # Load the trained model from the file\n",
    "    nb = joblib.load(model_path)\n",
    "    print(\"Naive Bayes model loaded successfully.\")\n",
    "    y_pred = nb.predict(x_test)\n",
    "    calculateMetrics(\"Naive Bayes\", y_pred, y_test)\n",
    "else:\n",
    "    # Train the model (assuming x_train and y_train are defined)\n",
    "    nb = GaussianNB()\n",
    "    nb.fit(x_train, y_train)\n",
    "    # Save the trained model to a file\n",
    "    joblib.dump(nb, model_path)\n",
    "    print(\"Naive Bayes model saved successfully.\")\n",
    "    y_pred = nb.predict(x_test)\n",
    "    calculateMetrics(\"Naive Bayes\", y_pred, y_test)\n"
   ]
  },
  {
   "cell_type": "code",
   "execution_count": null,
   "id": "56b5bbfb-6726-4e00-88a3-904cadf61433",
   "metadata": {},
   "outputs": [],
   "source": []
  },
  {
   "cell_type": "code",
   "execution_count": 37,
   "id": "f9badd8f-e228-4407-802c-d72279ff4100",
   "metadata": {},
   "outputs": [
    {
     "name": "stdout",
     "output_type": "stream",
     "text": [
      "100 random rows saved to test.csv without the last column.\n"
     ]
    }
   ],
   "source": [
    "import pandas as pd\n",
    "\n",
    "# Load your dataset\n",
    "\n",
    "\n",
    "# Select 100 random rows\n",
    "df_sample = df.sample(n=100, random_state=42)  # random_state ensures reproducibility\n",
    "\n",
    "# Drop the last column\n",
    "df_sample = df_sample.iloc[:, :-1]\n",
    "\n",
    "# Save to test.csv\n",
    "df_sample.to_csv('test.csv', index=False)\n",
    "\n",
    "print(\"100 random rows saved to test.csv without the last column.\")\n"
   ]
  },
  {
   "cell_type": "code",
   "execution_count": 38,
   "id": "c3940461-e25b-4a3b-9bc6-e79aa0529284",
   "metadata": {},
   "outputs": [],
   "source": [
    "test=pd.read_csv(\"test.csv\")"
   ]
  },
  {
   "cell_type": "code",
   "execution_count": 39,
   "id": "287bbc87-8636-4d0c-a26c-035f6fee83d9",
   "metadata": {},
   "outputs": [
    {
     "data": {
      "text/html": [
       "<div>\n",
       "<style scoped>\n",
       "    .dataframe tbody tr th:only-of-type {\n",
       "        vertical-align: middle;\n",
       "    }\n",
       "\n",
       "    .dataframe tbody tr th {\n",
       "        vertical-align: top;\n",
       "    }\n",
       "\n",
       "    .dataframe thead th {\n",
       "        text-align: right;\n",
       "    }\n",
       "</style>\n",
       "<table border=\"1\" class=\"dataframe\">\n",
       "  <thead>\n",
       "    <tr style=\"text-align: right;\">\n",
       "      <th></th>\n",
       "      <th>Highest Layer</th>\n",
       "      <th>Transport Layer</th>\n",
       "      <th>Source IP</th>\n",
       "      <th>Dest IP</th>\n",
       "      <th>Source Port</th>\n",
       "      <th>Dest Port</th>\n",
       "      <th>Packet Length</th>\n",
       "      <th>Packets/Time</th>\n",
       "    </tr>\n",
       "  </thead>\n",
       "  <tbody>\n",
       "    <tr>\n",
       "      <th>0</th>\n",
       "      <td>7</td>\n",
       "      <td>1</td>\n",
       "      <td>1</td>\n",
       "      <td>5</td>\n",
       "      <td>61640</td>\n",
       "      <td>80</td>\n",
       "      <td>60</td>\n",
       "      <td>422.9</td>\n",
       "    </tr>\n",
       "    <tr>\n",
       "      <th>1</th>\n",
       "      <td>7</td>\n",
       "      <td>1</td>\n",
       "      <td>1</td>\n",
       "      <td>5</td>\n",
       "      <td>61636</td>\n",
       "      <td>80</td>\n",
       "      <td>60</td>\n",
       "      <td>366.0</td>\n",
       "    </tr>\n",
       "    <tr>\n",
       "      <th>2</th>\n",
       "      <td>7</td>\n",
       "      <td>1</td>\n",
       "      <td>1</td>\n",
       "      <td>5</td>\n",
       "      <td>56187</td>\n",
       "      <td>80</td>\n",
       "      <td>60</td>\n",
       "      <td>388.0</td>\n",
       "    </tr>\n",
       "    <tr>\n",
       "      <th>3</th>\n",
       "      <td>7</td>\n",
       "      <td>1</td>\n",
       "      <td>1</td>\n",
       "      <td>5</td>\n",
       "      <td>64146</td>\n",
       "      <td>80</td>\n",
       "      <td>60</td>\n",
       "      <td>18.0</td>\n",
       "    </tr>\n",
       "    <tr>\n",
       "      <th>4</th>\n",
       "      <td>7</td>\n",
       "      <td>1</td>\n",
       "      <td>1</td>\n",
       "      <td>5</td>\n",
       "      <td>56186</td>\n",
       "      <td>80</td>\n",
       "      <td>60</td>\n",
       "      <td>269.5</td>\n",
       "    </tr>\n",
       "    <tr>\n",
       "      <th>...</th>\n",
       "      <td>...</td>\n",
       "      <td>...</td>\n",
       "      <td>...</td>\n",
       "      <td>...</td>\n",
       "      <td>...</td>\n",
       "      <td>...</td>\n",
       "      <td>...</td>\n",
       "      <td>...</td>\n",
       "    </tr>\n",
       "    <tr>\n",
       "      <th>95</th>\n",
       "      <td>7</td>\n",
       "      <td>1</td>\n",
       "      <td>1</td>\n",
       "      <td>5</td>\n",
       "      <td>61641</td>\n",
       "      <td>80</td>\n",
       "      <td>60</td>\n",
       "      <td>335.4</td>\n",
       "    </tr>\n",
       "    <tr>\n",
       "      <th>96</th>\n",
       "      <td>7</td>\n",
       "      <td>1</td>\n",
       "      <td>1</td>\n",
       "      <td>5</td>\n",
       "      <td>64143</td>\n",
       "      <td>80</td>\n",
       "      <td>60</td>\n",
       "      <td>83.2</td>\n",
       "    </tr>\n",
       "    <tr>\n",
       "      <th>97</th>\n",
       "      <td>9</td>\n",
       "      <td>0</td>\n",
       "      <td>0</td>\n",
       "      <td>11</td>\n",
       "      <td>5201</td>\n",
       "      <td>49158</td>\n",
       "      <td>54</td>\n",
       "      <td>204.9</td>\n",
       "    </tr>\n",
       "    <tr>\n",
       "      <th>98</th>\n",
       "      <td>6</td>\n",
       "      <td>1</td>\n",
       "      <td>0</td>\n",
       "      <td>10</td>\n",
       "      <td>137</td>\n",
       "      <td>137</td>\n",
       "      <td>92</td>\n",
       "      <td>86.5</td>\n",
       "    </tr>\n",
       "    <tr>\n",
       "      <th>99</th>\n",
       "      <td>7</td>\n",
       "      <td>1</td>\n",
       "      <td>1</td>\n",
       "      <td>5</td>\n",
       "      <td>64151</td>\n",
       "      <td>80</td>\n",
       "      <td>60</td>\n",
       "      <td>448.5</td>\n",
       "    </tr>\n",
       "  </tbody>\n",
       "</table>\n",
       "<p>100 rows × 8 columns</p>\n",
       "</div>"
      ],
      "text/plain": [
       "    Highest Layer  Transport Layer  Source IP  Dest IP  Source Port  \\\n",
       "0               7                1          1        5        61640   \n",
       "1               7                1          1        5        61636   \n",
       "2               7                1          1        5        56187   \n",
       "3               7                1          1        5        64146   \n",
       "4               7                1          1        5        56186   \n",
       "..            ...              ...        ...      ...          ...   \n",
       "95              7                1          1        5        61641   \n",
       "96              7                1          1        5        64143   \n",
       "97              9                0          0       11         5201   \n",
       "98              6                1          0       10          137   \n",
       "99              7                1          1        5        64151   \n",
       "\n",
       "    Dest Port  Packet Length  Packets/Time  \n",
       "0          80             60         422.9  \n",
       "1          80             60         366.0  \n",
       "2          80             60         388.0  \n",
       "3          80             60          18.0  \n",
       "4          80             60         269.5  \n",
       "..        ...            ...           ...  \n",
       "95         80             60         335.4  \n",
       "96         80             60          83.2  \n",
       "97      49158             54         204.9  \n",
       "98        137             92          86.5  \n",
       "99         80             60         448.5  \n",
       "\n",
       "[100 rows x 8 columns]"
      ]
     },
     "execution_count": 39,
     "metadata": {},
     "output_type": "execute_result"
    }
   ],
   "source": [
    "test"
   ]
  },
  {
   "cell_type": "code",
   "execution_count": 40,
   "id": "829b63a2-ca62-4d9e-8d4d-cd83f8fe642d",
   "metadata": {},
   "outputs": [],
   "source": [
    "labels = {0:\"Normal_Attack\",1:\"DDoS_Attack\"}"
   ]
  },
  {
   "cell_type": "code",
   "execution_count": 41,
   "id": "e55d74c5-4381-441d-bea7-3540f48086e1",
   "metadata": {},
   "outputs": [
    {
     "name": "stdout",
     "output_type": "stream",
     "text": [
      "<bound method Series.sum of 0       DDoS_Attack\n",
      "1       DDoS_Attack\n",
      "2       DDoS_Attack\n",
      "3       DDoS_Attack\n",
      "4       DDoS_Attack\n",
      "          ...      \n",
      "95      DDoS_Attack\n",
      "96      DDoS_Attack\n",
      "97    Normal_Attack\n",
      "98    Normal_Attack\n",
      "99      DDoS_Attack\n",
      "Length: 100, dtype: object>\n"
     ]
    }
   ],
   "source": [
    "# Predict using the trained RandomForest model\n",
    "p = rf.predict(test)\n",
    "\n",
    "# Define label mapping\n",
    "labels = {0: \"Normal_Attack\", 1: \"DDoS_Attack\"}\n",
    "\n",
    "# Convert prediction array to Pandas Series and apply mapping\n",
    "import pandas as pd\n",
    "p_mapped = pd.Series(p).map(labels)\n",
    "\n",
    "# Display predictions\n",
    "print(p_mapped.sum)\n"
   ]
  },
  {
   "cell_type": "code",
   "execution_count": 42,
   "id": "9618cfd8-f814-4126-8c10-6bc329bee96e",
   "metadata": {},
   "outputs": [
    {
     "name": "stdout",
     "output_type": "stream",
     "text": [
      "Naive Bayes Report:\n",
      "              precision    recall  f1-score   support\n",
      "\n",
      "           0       0.99      1.00      1.00     15941\n",
      "           1       1.00      0.99      1.00     15747\n",
      "\n",
      "    accuracy                           1.00     31688\n",
      "   macro avg       1.00      1.00      1.00     31688\n",
      "weighted avg       1.00      1.00      1.00     31688\n",
      "\n",
      "Accuracy: 0.997286038879071\n"
     ]
    }
   ],
   "source": [
    "from sklearn.naive_bayes import GaussianNB\n",
    "\n",
    "# Train Naive Bayes\n",
    "nb = GaussianNB()\n",
    "nb.fit(x_train, y_train)\n",
    "\n",
    "# Predict\n",
    "y_pred_nb = nb.predict(x_test)\n",
    "\n",
    "# Evaluate\n",
    "print(\"Naive Bayes Report:\")\n",
    "print(classification_report(y_test, y_pred_nb))\n",
    "print(\"Accuracy:\", accuracy_score(y_test, y_pred_nb))\n"
   ]
  },
  {
   "cell_type": "code",
   "execution_count": 46,
   "id": "e7c3565c-7ec2-41bc-b5b3-46a0bdc5df4a",
   "metadata": {},
   "outputs": [
    {
     "name": "stdout",
     "output_type": "stream",
     "text": [
      "GaussianNB model saved successfully.\n",
      "GaussianNB Accuracy    : 99.7286038879071\n",
      "GaussianNB Precision   : 99.72693211405347\n",
      "GaussianNB Recall      : 99.73170275160666\n",
      "GaussianNB FSCORE      : 99.72858269629792\n"
     ]
    },
    {
     "ename": "TypeError",
     "evalue": "object of type 'int' has no len()",
     "output_type": "error",
     "traceback": [
      "\u001b[31m---------------------------------------------------------------------------\u001b[39m",
      "\u001b[31mTypeError\u001b[39m                                 Traceback (most recent call last)",
      "\u001b[36mCell\u001b[39m\u001b[36m \u001b[39m\u001b[32mIn[46]\u001b[39m\u001b[32m, line 25\u001b[39m\n\u001b[32m     23\u001b[39m \u001b[38;5;28mprint\u001b[39m(\u001b[33m\"\u001b[39m\u001b[33mGaussianNB model saved successfully.\u001b[39m\u001b[33m\"\u001b[39m)\n\u001b[32m     24\u001b[39m y_pred = nb.predict(x_test)\n\u001b[32m---> \u001b[39m\u001b[32m25\u001b[39m \u001b[43mcalculateMetrics\u001b[49m\u001b[43m(\u001b[49m\u001b[33;43m\"\u001b[39;49m\u001b[33;43mGaussianNB\u001b[39;49m\u001b[33;43m\"\u001b[39;49m\u001b[43m,\u001b[49m\u001b[43m \u001b[49m\u001b[43my_pred\u001b[49m\u001b[43m,\u001b[49m\u001b[43m \u001b[49m\u001b[43my_test\u001b[49m\u001b[43m)\u001b[49m\n",
      "\u001b[36mCell\u001b[39m\u001b[36m \u001b[39m\u001b[32mIn[32]\u001b[39m\u001b[32m, line 15\u001b[39m, in \u001b[36mcalculateMetrics\u001b[39m\u001b[34m(algorithm, testY, predict)\u001b[39m\n\u001b[32m     13\u001b[39m \u001b[38;5;28mprint\u001b[39m(algorithm+\u001b[33m'\u001b[39m\u001b[33m Recall      : \u001b[39m\u001b[33m'\u001b[39m+\u001b[38;5;28mstr\u001b[39m(r))\n\u001b[32m     14\u001b[39m \u001b[38;5;28mprint\u001b[39m(algorithm+\u001b[33m'\u001b[39m\u001b[33m FSCORE      : \u001b[39m\u001b[33m'\u001b[39m+\u001b[38;5;28mstr\u001b[39m(f))\n\u001b[32m---> \u001b[39m\u001b[32m15\u001b[39m report=\u001b[43mclassification_report\u001b[49m\u001b[43m(\u001b[49m\u001b[43mpredict\u001b[49m\u001b[43m,\u001b[49m\u001b[43m \u001b[49m\u001b[43mtestY\u001b[49m\u001b[43m,\u001b[49m\u001b[43mtarget_names\u001b[49m\u001b[43m=\u001b[49m\u001b[43mlabels\u001b[49m\u001b[43m)\u001b[49m\n\u001b[32m     16\u001b[39m \u001b[38;5;28mprint\u001b[39m(\u001b[33m'\u001b[39m\u001b[38;5;130;01m\\n\u001b[39;00m\u001b[33m'\u001b[39m,algorithm+\u001b[33m\"\u001b[39m\u001b[33m classification report\u001b[39m\u001b[38;5;130;01m\\n\u001b[39;00m\u001b[33m\"\u001b[39m,report)\n\u001b[32m     17\u001b[39m conf_matrix = confusion_matrix(testY, predict) \n",
      "\u001b[36mFile \u001b[39m\u001b[32m~\\AppData\\Local\\Programs\\Python\\Python312\\Lib\\site-packages\\sklearn\\utils\\_param_validation.py:216\u001b[39m, in \u001b[36mvalidate_params.<locals>.decorator.<locals>.wrapper\u001b[39m\u001b[34m(*args, **kwargs)\u001b[39m\n\u001b[32m    210\u001b[39m \u001b[38;5;28;01mtry\u001b[39;00m:\n\u001b[32m    211\u001b[39m     \u001b[38;5;28;01mwith\u001b[39;00m config_context(\n\u001b[32m    212\u001b[39m         skip_parameter_validation=(\n\u001b[32m    213\u001b[39m             prefer_skip_nested_validation \u001b[38;5;129;01mor\u001b[39;00m global_skip_validation\n\u001b[32m    214\u001b[39m         )\n\u001b[32m    215\u001b[39m     ):\n\u001b[32m--> \u001b[39m\u001b[32m216\u001b[39m         \u001b[38;5;28;01mreturn\u001b[39;00m \u001b[43mfunc\u001b[49m\u001b[43m(\u001b[49m\u001b[43m*\u001b[49m\u001b[43margs\u001b[49m\u001b[43m,\u001b[49m\u001b[43m \u001b[49m\u001b[43m*\u001b[49m\u001b[43m*\u001b[49m\u001b[43mkwargs\u001b[49m\u001b[43m)\u001b[49m\n\u001b[32m    217\u001b[39m \u001b[38;5;28;01mexcept\u001b[39;00m InvalidParameterError \u001b[38;5;28;01mas\u001b[39;00m e:\n\u001b[32m    218\u001b[39m     \u001b[38;5;66;03m# When the function is just a wrapper around an estimator, we allow\u001b[39;00m\n\u001b[32m    219\u001b[39m     \u001b[38;5;66;03m# the function to delegate validation to the estimator, but we replace\u001b[39;00m\n\u001b[32m    220\u001b[39m     \u001b[38;5;66;03m# the name of the estimator by the name of the function in the error\u001b[39;00m\n\u001b[32m    221\u001b[39m     \u001b[38;5;66;03m# message to avoid confusion.\u001b[39;00m\n\u001b[32m    222\u001b[39m     msg = re.sub(\n\u001b[32m    223\u001b[39m         \u001b[33mr\u001b[39m\u001b[33m\"\u001b[39m\u001b[33mparameter of \u001b[39m\u001b[33m\\\u001b[39m\u001b[33mw+ must be\u001b[39m\u001b[33m\"\u001b[39m,\n\u001b[32m    224\u001b[39m         \u001b[33mf\u001b[39m\u001b[33m\"\u001b[39m\u001b[33mparameter of \u001b[39m\u001b[38;5;132;01m{\u001b[39;00mfunc.\u001b[34m__qualname__\u001b[39m\u001b[38;5;132;01m}\u001b[39;00m\u001b[33m must be\u001b[39m\u001b[33m\"\u001b[39m,\n\u001b[32m    225\u001b[39m         \u001b[38;5;28mstr\u001b[39m(e),\n\u001b[32m    226\u001b[39m     )\n",
      "\u001b[36mFile \u001b[39m\u001b[32m~\\AppData\\Local\\Programs\\Python\\Python312\\Lib\\site-packages\\sklearn\\metrics\\_classification.py:2724\u001b[39m, in \u001b[36mclassification_report\u001b[39m\u001b[34m(y_true, y_pred, labels, target_names, sample_weight, digits, output_dict, zero_division)\u001b[39m\n\u001b[32m   2722\u001b[39m \u001b[38;5;28;01melse\u001b[39;00m:\n\u001b[32m   2723\u001b[39m     longest_last_line_heading = \u001b[33m\"\u001b[39m\u001b[33mweighted avg\u001b[39m\u001b[33m\"\u001b[39m\n\u001b[32m-> \u001b[39m\u001b[32m2724\u001b[39m     name_width = \u001b[38;5;28;43mmax\u001b[39;49m\u001b[43m(\u001b[49m\u001b[38;5;28;43mlen\u001b[39;49m\u001b[43m(\u001b[49m\u001b[43mcn\u001b[49m\u001b[43m)\u001b[49m\u001b[43m \u001b[49m\u001b[38;5;28;43;01mfor\u001b[39;49;00m\u001b[43m \u001b[49m\u001b[43mcn\u001b[49m\u001b[43m \u001b[49m\u001b[38;5;129;43;01min\u001b[39;49;00m\u001b[43m \u001b[49m\u001b[43mtarget_names\u001b[49m\u001b[43m)\u001b[49m\n\u001b[32m   2725\u001b[39m     width = \u001b[38;5;28mmax\u001b[39m(name_width, \u001b[38;5;28mlen\u001b[39m(longest_last_line_heading), digits)\n\u001b[32m   2726\u001b[39m     head_fmt = \u001b[33m\"\u001b[39m\u001b[33m{\u001b[39m\u001b[33m:>\u001b[39m\u001b[38;5;132;01m{width}\u001b[39;00m\u001b[33ms} \u001b[39m\u001b[33m\"\u001b[39m + \u001b[33m\"\u001b[39m\u001b[33m \u001b[39m\u001b[38;5;132;01m{:>9}\u001b[39;00m\u001b[33m\"\u001b[39m * \u001b[38;5;28mlen\u001b[39m(headers)\n",
      "\u001b[36mFile \u001b[39m\u001b[32m~\\AppData\\Local\\Programs\\Python\\Python312\\Lib\\site-packages\\sklearn\\metrics\\_classification.py:2724\u001b[39m, in \u001b[36m<genexpr>\u001b[39m\u001b[34m(.0)\u001b[39m\n\u001b[32m   2722\u001b[39m \u001b[38;5;28;01melse\u001b[39;00m:\n\u001b[32m   2723\u001b[39m     longest_last_line_heading = \u001b[33m\"\u001b[39m\u001b[33mweighted avg\u001b[39m\u001b[33m\"\u001b[39m\n\u001b[32m-> \u001b[39m\u001b[32m2724\u001b[39m     name_width = \u001b[38;5;28mmax\u001b[39m(\u001b[38;5;28;43mlen\u001b[39;49m\u001b[43m(\u001b[49m\u001b[43mcn\u001b[49m\u001b[43m)\u001b[49m \u001b[38;5;28;01mfor\u001b[39;00m cn \u001b[38;5;129;01min\u001b[39;00m target_names)\n\u001b[32m   2725\u001b[39m     width = \u001b[38;5;28mmax\u001b[39m(name_width, \u001b[38;5;28mlen\u001b[39m(longest_last_line_heading), digits)\n\u001b[32m   2726\u001b[39m     head_fmt = \u001b[33m\"\u001b[39m\u001b[33m{\u001b[39m\u001b[33m:>\u001b[39m\u001b[38;5;132;01m{width}\u001b[39;00m\u001b[33ms} \u001b[39m\u001b[33m\"\u001b[39m + \u001b[33m\"\u001b[39m\u001b[33m \u001b[39m\u001b[38;5;132;01m{:>9}\u001b[39;00m\u001b[33m\"\u001b[39m * \u001b[38;5;28mlen\u001b[39m(headers)\n",
      "\u001b[31mTypeError\u001b[39m: object of type 'int' has no len()"
     ]
    }
   ],
   "source": [
    "import os\n",
    "import joblib\n",
    "from sklearn.naive_bayes import GaussianNB\n",
    "\n",
    "# Ensure the model directory exists\n",
    "os.makedirs('model', exist_ok=True)\n",
    "\n",
    "# Define the model file path\n",
    "model_path = 'model/GaussianNB.pkl'\n",
    "\n",
    "if os.path.exists(model_path):\n",
    "    # Load the trained model from the file\n",
    "    nb = joblib.load(model_path)\n",
    "    print(\"GaussianNB model loaded successfully.\")\n",
    "    y_pred = nb.predict(x_test)\n",
    "    calculateMetrics(\"GaussianNB\", y_pred, y_test)\n",
    "else:\n",
    "    # Train the model (assuming x_train and y_train are defined)\n",
    "    nb = GaussianNB()\n",
    "    nb.fit(x_train, y_train)\n",
    "    # Save the trained model to a file\n",
    "    joblib.dump(nb, model_path)\n",
    "    print(\"GaussianNB model saved successfully.\")\n",
    "    y_pred = nb.predict(x_test)\n",
    "    calculateMetrics(\"GaussianNB\", y_pred, y_test)\n"
   ]
  },
  {
   "cell_type": "code",
   "execution_count": 47,
   "id": "592e90a9-fa4a-4f08-892c-8b5bae97c309",
   "metadata": {},
   "outputs": [
    {
     "name": "stdout",
     "output_type": "stream",
     "text": [
      "KNN model loaded successfully.\n",
      "KNN Accuracy    : 99.9431961625852\n",
      "KNN Precision   : 99.94292354020715\n",
      "KNN Recall      : 99.94350291151086\n",
      "KNN FSCORE      : 99.94319371502492\n"
     ]
    },
    {
     "ename": "TypeError",
     "evalue": "object of type 'int' has no len()",
     "output_type": "error",
     "traceback": [
      "\u001b[31m---------------------------------------------------------------------------\u001b[39m",
      "\u001b[31mTypeError\u001b[39m                                 Traceback (most recent call last)",
      "\u001b[36mCell\u001b[39m\u001b[36m \u001b[39m\u001b[32mIn[47]\u001b[39m\u001b[32m, line 16\u001b[39m\n\u001b[32m     14\u001b[39m     \u001b[38;5;28mprint\u001b[39m(\u001b[33m\"\u001b[39m\u001b[33mKNN model loaded successfully.\u001b[39m\u001b[33m\"\u001b[39m)\n\u001b[32m     15\u001b[39m     y_pred = knn.predict(x_test)\n\u001b[32m---> \u001b[39m\u001b[32m16\u001b[39m     \u001b[43mcalculateMetrics\u001b[49m\u001b[43m(\u001b[49m\u001b[33;43m\"\u001b[39;49m\u001b[33;43mKNN\u001b[39;49m\u001b[33;43m\"\u001b[39;49m\u001b[43m,\u001b[49m\u001b[43m \u001b[49m\u001b[43my_pred\u001b[49m\u001b[43m,\u001b[49m\u001b[43m \u001b[49m\u001b[43my_test\u001b[49m\u001b[43m)\u001b[49m\n\u001b[32m     17\u001b[39m \u001b[38;5;28;01melse\u001b[39;00m:\n\u001b[32m     18\u001b[39m     \u001b[38;5;66;03m# Train the model (assuming x_train and y_train are defined)\u001b[39;00m\n\u001b[32m     19\u001b[39m     knn = KNeighborsClassifier(n_neighbors=\u001b[32m5\u001b[39m)\n",
      "\u001b[36mCell\u001b[39m\u001b[36m \u001b[39m\u001b[32mIn[32]\u001b[39m\u001b[32m, line 15\u001b[39m, in \u001b[36mcalculateMetrics\u001b[39m\u001b[34m(algorithm, testY, predict)\u001b[39m\n\u001b[32m     13\u001b[39m \u001b[38;5;28mprint\u001b[39m(algorithm+\u001b[33m'\u001b[39m\u001b[33m Recall      : \u001b[39m\u001b[33m'\u001b[39m+\u001b[38;5;28mstr\u001b[39m(r))\n\u001b[32m     14\u001b[39m \u001b[38;5;28mprint\u001b[39m(algorithm+\u001b[33m'\u001b[39m\u001b[33m FSCORE      : \u001b[39m\u001b[33m'\u001b[39m+\u001b[38;5;28mstr\u001b[39m(f))\n\u001b[32m---> \u001b[39m\u001b[32m15\u001b[39m report=\u001b[43mclassification_report\u001b[49m\u001b[43m(\u001b[49m\u001b[43mpredict\u001b[49m\u001b[43m,\u001b[49m\u001b[43m \u001b[49m\u001b[43mtestY\u001b[49m\u001b[43m,\u001b[49m\u001b[43mtarget_names\u001b[49m\u001b[43m=\u001b[49m\u001b[43mlabels\u001b[49m\u001b[43m)\u001b[49m\n\u001b[32m     16\u001b[39m \u001b[38;5;28mprint\u001b[39m(\u001b[33m'\u001b[39m\u001b[38;5;130;01m\\n\u001b[39;00m\u001b[33m'\u001b[39m,algorithm+\u001b[33m\"\u001b[39m\u001b[33m classification report\u001b[39m\u001b[38;5;130;01m\\n\u001b[39;00m\u001b[33m\"\u001b[39m,report)\n\u001b[32m     17\u001b[39m conf_matrix = confusion_matrix(testY, predict) \n",
      "\u001b[36mFile \u001b[39m\u001b[32m~\\AppData\\Local\\Programs\\Python\\Python312\\Lib\\site-packages\\sklearn\\utils\\_param_validation.py:216\u001b[39m, in \u001b[36mvalidate_params.<locals>.decorator.<locals>.wrapper\u001b[39m\u001b[34m(*args, **kwargs)\u001b[39m\n\u001b[32m    210\u001b[39m \u001b[38;5;28;01mtry\u001b[39;00m:\n\u001b[32m    211\u001b[39m     \u001b[38;5;28;01mwith\u001b[39;00m config_context(\n\u001b[32m    212\u001b[39m         skip_parameter_validation=(\n\u001b[32m    213\u001b[39m             prefer_skip_nested_validation \u001b[38;5;129;01mor\u001b[39;00m global_skip_validation\n\u001b[32m    214\u001b[39m         )\n\u001b[32m    215\u001b[39m     ):\n\u001b[32m--> \u001b[39m\u001b[32m216\u001b[39m         \u001b[38;5;28;01mreturn\u001b[39;00m \u001b[43mfunc\u001b[49m\u001b[43m(\u001b[49m\u001b[43m*\u001b[49m\u001b[43margs\u001b[49m\u001b[43m,\u001b[49m\u001b[43m \u001b[49m\u001b[43m*\u001b[49m\u001b[43m*\u001b[49m\u001b[43mkwargs\u001b[49m\u001b[43m)\u001b[49m\n\u001b[32m    217\u001b[39m \u001b[38;5;28;01mexcept\u001b[39;00m InvalidParameterError \u001b[38;5;28;01mas\u001b[39;00m e:\n\u001b[32m    218\u001b[39m     \u001b[38;5;66;03m# When the function is just a wrapper around an estimator, we allow\u001b[39;00m\n\u001b[32m    219\u001b[39m     \u001b[38;5;66;03m# the function to delegate validation to the estimator, but we replace\u001b[39;00m\n\u001b[32m    220\u001b[39m     \u001b[38;5;66;03m# the name of the estimator by the name of the function in the error\u001b[39;00m\n\u001b[32m    221\u001b[39m     \u001b[38;5;66;03m# message to avoid confusion.\u001b[39;00m\n\u001b[32m    222\u001b[39m     msg = re.sub(\n\u001b[32m    223\u001b[39m         \u001b[33mr\u001b[39m\u001b[33m\"\u001b[39m\u001b[33mparameter of \u001b[39m\u001b[33m\\\u001b[39m\u001b[33mw+ must be\u001b[39m\u001b[33m\"\u001b[39m,\n\u001b[32m    224\u001b[39m         \u001b[33mf\u001b[39m\u001b[33m\"\u001b[39m\u001b[33mparameter of \u001b[39m\u001b[38;5;132;01m{\u001b[39;00mfunc.\u001b[34m__qualname__\u001b[39m\u001b[38;5;132;01m}\u001b[39;00m\u001b[33m must be\u001b[39m\u001b[33m\"\u001b[39m,\n\u001b[32m    225\u001b[39m         \u001b[38;5;28mstr\u001b[39m(e),\n\u001b[32m    226\u001b[39m     )\n",
      "\u001b[36mFile \u001b[39m\u001b[32m~\\AppData\\Local\\Programs\\Python\\Python312\\Lib\\site-packages\\sklearn\\metrics\\_classification.py:2724\u001b[39m, in \u001b[36mclassification_report\u001b[39m\u001b[34m(y_true, y_pred, labels, target_names, sample_weight, digits, output_dict, zero_division)\u001b[39m\n\u001b[32m   2722\u001b[39m \u001b[38;5;28;01melse\u001b[39;00m:\n\u001b[32m   2723\u001b[39m     longest_last_line_heading = \u001b[33m\"\u001b[39m\u001b[33mweighted avg\u001b[39m\u001b[33m\"\u001b[39m\n\u001b[32m-> \u001b[39m\u001b[32m2724\u001b[39m     name_width = \u001b[38;5;28;43mmax\u001b[39;49m\u001b[43m(\u001b[49m\u001b[38;5;28;43mlen\u001b[39;49m\u001b[43m(\u001b[49m\u001b[43mcn\u001b[49m\u001b[43m)\u001b[49m\u001b[43m \u001b[49m\u001b[38;5;28;43;01mfor\u001b[39;49;00m\u001b[43m \u001b[49m\u001b[43mcn\u001b[49m\u001b[43m \u001b[49m\u001b[38;5;129;43;01min\u001b[39;49;00m\u001b[43m \u001b[49m\u001b[43mtarget_names\u001b[49m\u001b[43m)\u001b[49m\n\u001b[32m   2725\u001b[39m     width = \u001b[38;5;28mmax\u001b[39m(name_width, \u001b[38;5;28mlen\u001b[39m(longest_last_line_heading), digits)\n\u001b[32m   2726\u001b[39m     head_fmt = \u001b[33m\"\u001b[39m\u001b[33m{\u001b[39m\u001b[33m:>\u001b[39m\u001b[38;5;132;01m{width}\u001b[39;00m\u001b[33ms} \u001b[39m\u001b[33m\"\u001b[39m + \u001b[33m\"\u001b[39m\u001b[33m \u001b[39m\u001b[38;5;132;01m{:>9}\u001b[39;00m\u001b[33m\"\u001b[39m * \u001b[38;5;28mlen\u001b[39m(headers)\n",
      "\u001b[36mFile \u001b[39m\u001b[32m~\\AppData\\Local\\Programs\\Python\\Python312\\Lib\\site-packages\\sklearn\\metrics\\_classification.py:2724\u001b[39m, in \u001b[36m<genexpr>\u001b[39m\u001b[34m(.0)\u001b[39m\n\u001b[32m   2722\u001b[39m \u001b[38;5;28;01melse\u001b[39;00m:\n\u001b[32m   2723\u001b[39m     longest_last_line_heading = \u001b[33m\"\u001b[39m\u001b[33mweighted avg\u001b[39m\u001b[33m\"\u001b[39m\n\u001b[32m-> \u001b[39m\u001b[32m2724\u001b[39m     name_width = \u001b[38;5;28mmax\u001b[39m(\u001b[38;5;28;43mlen\u001b[39;49m\u001b[43m(\u001b[49m\u001b[43mcn\u001b[49m\u001b[43m)\u001b[49m \u001b[38;5;28;01mfor\u001b[39;00m cn \u001b[38;5;129;01min\u001b[39;00m target_names)\n\u001b[32m   2725\u001b[39m     width = \u001b[38;5;28mmax\u001b[39m(name_width, \u001b[38;5;28mlen\u001b[39m(longest_last_line_heading), digits)\n\u001b[32m   2726\u001b[39m     head_fmt = \u001b[33m\"\u001b[39m\u001b[33m{\u001b[39m\u001b[33m:>\u001b[39m\u001b[38;5;132;01m{width}\u001b[39;00m\u001b[33ms} \u001b[39m\u001b[33m\"\u001b[39m + \u001b[33m\"\u001b[39m\u001b[33m \u001b[39m\u001b[38;5;132;01m{:>9}\u001b[39;00m\u001b[33m\"\u001b[39m * \u001b[38;5;28mlen\u001b[39m(headers)\n",
      "\u001b[31mTypeError\u001b[39m: object of type 'int' has no len()"
     ]
    }
   ],
   "source": []
  },
  {
   "cell_type": "code",
   "execution_count": null,
   "id": "7c8c3fb7-8fcd-4481-a548-eedb4c254955",
   "metadata": {},
   "outputs": [],
   "source": []
  }
 ],
 "metadata": {
  "kernelspec": {
   "display_name": "Python 3 (ipykernel)",
   "language": "python",
   "name": "python3"
  },
  "language_info": {
   "codemirror_mode": {
    "name": "ipython",
    "version": 3
   },
   "file_extension": ".py",
   "mimetype": "text/x-python",
   "name": "python",
   "nbconvert_exporter": "python",
   "pygments_lexer": "ipython3",
   "version": "3.12.3"
  }
 },
 "nbformat": 4,
 "nbformat_minor": 5
}
